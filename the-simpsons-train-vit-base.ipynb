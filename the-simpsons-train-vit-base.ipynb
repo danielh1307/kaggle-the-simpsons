{
 "cells": [
  {
   "cell_type": "code",
   "execution_count": null,
   "outputs": [],
   "source": [
    "!pip install wandb"
   ],
   "metadata": {
    "collapsed": false
   }
  },
  {
   "cell_type": "code",
   "execution_count": null,
   "outputs": [],
   "source": [
    "!wandb login API-KEY"
   ],
   "metadata": {
    "collapsed": false
   }
  },
  {
   "cell_type": "code",
   "execution_count": 16,
   "outputs": [],
   "source": [
    "import argparse\n",
    "import os\n",
    "import os.path\n",
    "\n",
    "import torch\n",
    "import torch.nn as nn\n",
    "import torchvision.transforms as transforms\n",
    "from PIL import Image\n",
    "from torch.optim.lr_scheduler import ReduceLROnPlateau\n",
    "from torch.utils.data import Dataset, DataLoader, random_split\n",
    "\n",
    "import wandb\n",
    "from shared_methods import all_labels\n",
    "from transformers import ViTImageProcessor\n",
    "from huggingface_pretrained import get_vision_transformer"
   ],
   "metadata": {
    "collapsed": false,
    "ExecuteTime": {
     "end_time": "2023-10-05T07:17:04.676687300Z",
     "start_time": "2023-10-05T07:17:04.651659800Z"
    }
   }
  },
  {
   "cell_type": "markdown",
   "source": [
    "# Check if we can use Cuda"
   ],
   "metadata": {
    "collapsed": false
   }
  },
  {
   "cell_type": "code",
   "execution_count": 17,
   "outputs": [
    {
     "name": "stdout",
     "output_type": "stream",
     "text": [
      "Using cuda device\n"
     ]
    }
   ],
   "source": [
    "device = (\n",
    "    \"cuda\"\n",
    "    if torch.cuda.is_available()\n",
    "    else \"mps\"\n",
    "    if torch.backends.mps.is_available()\n",
    "    else \"cpu\"\n",
    ")\n",
    "\n",
    "#device = \"cpu\" # uncomment if you want to use \"cpu\", currently cpu is faster than cuda (maybe because the NN is very little)\n",
    "print(f\"Using {device} device\")"
   ],
   "metadata": {
    "collapsed": false,
    "ExecuteTime": {
     "end_time": "2023-10-05T07:17:05.556579500Z",
     "start_time": "2023-10-05T07:17:05.545579500Z"
    }
   }
  },
  {
   "cell_type": "markdown",
   "source": [
    "# Initialize wandb"
   ],
   "metadata": {
    "collapsed": false
   }
  },
  {
   "cell_type": "code",
   "execution_count": 18,
   "outputs": [],
   "source": [
    "config = argparse.Namespace()\n",
    "config.learning_rate = 0.01\n",
    "config.epochs = 2\n",
    "config.batch_size = 32"
   ],
   "metadata": {
    "collapsed": false,
    "ExecuteTime": {
     "end_time": "2023-10-05T07:17:06.237686800Z",
     "start_time": "2023-10-05T07:17:06.225656900Z"
    }
   }
  },
  {
   "cell_type": "markdown",
   "source": [
    "# Creating a custom Dataset Class"
   ],
   "metadata": {
    "collapsed": false
   }
  },
  {
   "cell_type": "code",
   "execution_count": 26,
   "outputs": [],
   "source": [
    "def get_label_for_image_path(character):\n",
    "    return all_labels.index(character)  # this returns an integer\n",
    "\n",
    "\n",
    "class SimpsonsImageDataset(Dataset):\n",
    "    def __init__(self, root_dir, _transform):\n",
    "        self.root_dir = root_dir\n",
    "        self.transform = _transform\n",
    "        self.samples = []\n",
    "\n",
    "        for character in os.listdir(self.root_dir):\n",
    "            char_dir = os.path.join(self.root_dir, character)\n",
    "            if os.path.isdir(char_dir):\n",
    "                for filename in os.listdir(char_dir):\n",
    "                    if filename.endswith(\".jpg\"):\n",
    "                        img_path = os.path.join(char_dir, filename)\n",
    "                        label = get_label_for_image_path(character)\n",
    "\n",
    "                        # we just store the image path here, not the tensors\n",
    "                        # we create the tensor when calling __getitem__, that's why\n",
    "                        # the Dataset is created very fast\n",
    "                        self.samples.append((img_path, label))\n",
    "\n",
    "    def __len__(self):\n",
    "        return len(self.samples)\n",
    "\n",
    "    def __getitem__(self, idx):\n",
    "        img_path, label = self.samples[idx]\n",
    "        image = Image.open(img_path).convert(\"RGB\")\n",
    "\n",
    "        # here we transform the image to a tensor using this function:\n",
    "        # processor(images=image, return_tensors=\"pt\")\n",
    "        _inputs = self.transform(image)\n",
    "\n",
    "        return _inputs, label"
   ],
   "metadata": {
    "collapsed": false,
    "ExecuteTime": {
     "end_time": "2023-10-05T07:21:59.406294700Z",
     "start_time": "2023-10-05T07:21:59.386266400Z"
    }
   }
  },
  {
   "cell_type": "markdown",
   "source": [
    "# Creating the Dataset"
   ],
   "metadata": {
    "collapsed": false
   }
  },
  {
   "cell_type": "code",
   "execution_count": 27,
   "outputs": [],
   "source": [
    "# initialize the image processor, which is based on a pre-trained model,\n",
    "# it handles tasks like resizing the image, normalizing it and converting it to a tensor\n",
    "processor  = ViTImageProcessor.from_pretrained('google/vit-base-patch16-224-in21k')\n",
    "\n",
    "# transform method which creates a tensor from an image\n",
    "transform = lambda image: processor (image, return_tensors=\"pt\")\n",
    "\n",
    "# Initialize custom dataset and dataloader\n",
    "simpsons_dataset = SimpsonsImageDataset(root_dir=\"data/train_vid\", _transform=transform)\n",
    "dataloader = DataLoader(simpsons_dataset, batch_size=32, shuffle=True)"
   ],
   "metadata": {
    "collapsed": false,
    "ExecuteTime": {
     "end_time": "2023-10-05T07:22:00.683343900Z",
     "start_time": "2023-10-05T07:22:00.189835300Z"
    }
   }
  },
  {
   "cell_type": "markdown",
   "source": [
    "# Splitting into train and test set"
   ],
   "metadata": {
    "collapsed": false
   }
  },
  {
   "cell_type": "code",
   "execution_count": 28,
   "outputs": [],
   "source": [
    "total_size = len(simpsons_dataset)\n",
    "train_size = int(0.8 * total_size)\n",
    "validation_size = total_size - train_size\n",
    "\n",
    "train_dataset, validation_dataset = random_split(simpsons_dataset, [train_size, validation_size])"
   ],
   "metadata": {
    "collapsed": false,
    "ExecuteTime": {
     "end_time": "2023-10-05T07:22:00.996373200Z",
     "start_time": "2023-10-05T07:22:00.972344300Z"
    }
   }
  },
  {
   "cell_type": "markdown",
   "source": [
    "# Create the dataloader for training and validation"
   ],
   "metadata": {
    "collapsed": false
   }
  },
  {
   "cell_type": "code",
   "execution_count": 29,
   "outputs": [
    {
     "name": "stdout",
     "output_type": "stream",
     "text": [
      "I am using 32 images for training and 8 images for validation\n"
     ]
    }
   ],
   "source": [
    "# this function is used to customize the way batches of data are collided (combined)\n",
    "# before they are passed to the model for training\n",
    "def custom_collate_fn(batch):\n",
    "    # batch is a list of tuples --> each tuple contains an image tensor and its corresponding label\n",
    "\n",
    "    # stack all the tensors from this batch into a single tensor and remove any singleton dimensions at index 1\n",
    "    # of size 1. If there is no dimension at index 1 of size 1, squeeze(1) does nothing\n",
    "    # It's often included as a precautionary measure to handle cases where a singleton dimension might be introduced during data preprocessing or loading.\n",
    "    pixel_values = torch.stack([item[0]['pixel_values'] for item in batch]).squeeze(1)\n",
    "\n",
    "    # create a tensor from the label\n",
    "    _labels = torch.tensor([item[1] for item in batch], dtype=torch.long)\n",
    "    return pixel_values, _labels\n",
    "\n",
    "train_loader = DataLoader(train_dataset, batch_size=config.batch_size, shuffle=True, collate_fn=custom_collate_fn)\n",
    "validation_loader = DataLoader(validation_dataset, batch_size=config.batch_size, shuffle=False, collate_fn=custom_collate_fn)\n",
    "\n",
    "print(f\"I am using {len(train_dataset)} images for training and {len(validation_dataset)} images for validation\")"
   ],
   "metadata": {
    "collapsed": false,
    "ExecuteTime": {
     "end_time": "2023-10-05T07:22:03.005677400Z",
     "start_time": "2023-10-05T07:22:02.979647600Z"
    }
   }
  },
  {
   "cell_type": "markdown",
   "source": [
    "# Neural Network Architecture, loss function and optimizer"
   ],
   "metadata": {
    "collapsed": false
   }
  },
  {
   "cell_type": "code",
   "execution_count": 30,
   "outputs": [
    {
     "name": "stderr",
     "output_type": "stream",
     "text": [
      "Some weights of ViTForImageClassification were not initialized from the model checkpoint at google/vit-base-patch16-224-in21k and are newly initialized: ['classifier.bias', 'classifier.weight']\n",
      "You should probably TRAIN this model on a down-stream task to be able to use it for predictions and inference.\n"
     ]
    },
    {
     "name": "stdout",
     "output_type": "stream",
     "text": [
      "ViTForImageClassification(\n",
      "  (vit): ViTModel(\n",
      "    (embeddings): ViTEmbeddings(\n",
      "      (patch_embeddings): ViTPatchEmbeddings(\n",
      "        (projection): Conv2d(3, 768, kernel_size=(16, 16), stride=(16, 16))\n",
      "      )\n",
      "      (dropout): Dropout(p=0.0, inplace=False)\n",
      "    )\n",
      "    (encoder): ViTEncoder(\n",
      "      (layer): ModuleList(\n",
      "        (0-11): 12 x ViTLayer(\n",
      "          (attention): ViTAttention(\n",
      "            (attention): ViTSelfAttention(\n",
      "              (query): Linear(in_features=768, out_features=768, bias=True)\n",
      "              (key): Linear(in_features=768, out_features=768, bias=True)\n",
      "              (value): Linear(in_features=768, out_features=768, bias=True)\n",
      "              (dropout): Dropout(p=0.0, inplace=False)\n",
      "            )\n",
      "            (output): ViTSelfOutput(\n",
      "              (dense): Linear(in_features=768, out_features=768, bias=True)\n",
      "              (dropout): Dropout(p=0.0, inplace=False)\n",
      "            )\n",
      "          )\n",
      "          (intermediate): ViTIntermediate(\n",
      "            (dense): Linear(in_features=768, out_features=3072, bias=True)\n",
      "            (intermediate_act_fn): GELUActivation()\n",
      "          )\n",
      "          (output): ViTOutput(\n",
      "            (dense): Linear(in_features=3072, out_features=768, bias=True)\n",
      "            (dropout): Dropout(p=0.0, inplace=False)\n",
      "          )\n",
      "          (layernorm_before): LayerNorm((768,), eps=1e-12, elementwise_affine=True)\n",
      "          (layernorm_after): LayerNorm((768,), eps=1e-12, elementwise_affine=True)\n",
      "        )\n",
      "      )\n",
      "    )\n",
      "    (layernorm): LayerNorm((768,), eps=1e-12, elementwise_affine=True)\n",
      "  )\n",
      "  (classifier): Linear(in_features=768, out_features=29, bias=True)\n",
      ")\n"
     ]
    }
   ],
   "source": [
    "# create a complete CNN\n",
    "model = get_vision_transformer()\n",
    "config.model = model.__class__\n",
    "print(model)\n",
    "\n",
    "model.to(device)\n",
    "\n",
    "# loss function\n",
    "loss_function = nn.CrossEntropyLoss()\n",
    "# optimizer\n",
    "optimizer = torch.optim.SGD(model.parameters(), lr=config.learning_rate)\n",
    "# adding a scheduler to reduce the learning_rate as soon as the validation loss stops decreasing.\n",
    "# this is to try to prevent overfitting of the model\n",
    "scheduler = ReduceLROnPlateau(optimizer, 'min')  # 'min' means reducing the LR when the metric stops decreasing"
   ],
   "metadata": {
    "collapsed": false,
    "ExecuteTime": {
     "end_time": "2023-10-05T07:22:05.692010100Z",
     "start_time": "2023-10-05T07:22:04.377956900Z"
    }
   }
  },
  {
   "cell_type": "markdown",
   "source": [
    "# Train the Network"
   ],
   "metadata": {
    "collapsed": false
   }
  },
  {
   "cell_type": "code",
   "execution_count": 33,
   "outputs": [
    {
     "data": {
      "text/plain": "<IPython.core.display.HTML object>",
      "text/html": "wandb version 0.15.12 is available!  To upgrade, please run:\n $ pip install wandb --upgrade"
     },
     "metadata": {},
     "output_type": "display_data"
    },
    {
     "data": {
      "text/plain": "<IPython.core.display.HTML object>",
      "text/html": "Tracking run with wandb version 0.15.11"
     },
     "metadata": {},
     "output_type": "display_data"
    },
    {
     "data": {
      "text/plain": "<IPython.core.display.HTML object>",
      "text/html": "Run data is saved locally in <code>C:\\dev\\projects\\kaggle-the-simpsons\\wandb\\run-20231005_092236-057ztwm0</code>"
     },
     "metadata": {},
     "output_type": "display_data"
    },
    {
     "data": {
      "text/plain": "<IPython.core.display.HTML object>",
      "text/html": "Syncing run <strong><a href='https://wandb.ai/hamm-daniel/kaggle-simpsons/runs/057ztwm0' target=\"_blank\">earnest-star-19</a></strong> to <a href='https://wandb.ai/hamm-daniel/kaggle-simpsons' target=\"_blank\">Weights & Biases</a> (<a href='https://wandb.me/run' target=\"_blank\">docs</a>)<br/>"
     },
     "metadata": {},
     "output_type": "display_data"
    },
    {
     "data": {
      "text/plain": "<IPython.core.display.HTML object>",
      "text/html": " View project at <a href='https://wandb.ai/hamm-daniel/kaggle-simpsons' target=\"_blank\">https://wandb.ai/hamm-daniel/kaggle-simpsons</a>"
     },
     "metadata": {},
     "output_type": "display_data"
    },
    {
     "data": {
      "text/plain": "<IPython.core.display.HTML object>",
      "text/html": " View run at <a href='https://wandb.ai/hamm-daniel/kaggle-simpsons/runs/057ztwm0' target=\"_blank\">https://wandb.ai/hamm-daniel/kaggle-simpsons/runs/057ztwm0</a>"
     },
     "metadata": {},
     "output_type": "display_data"
    },
    {
     "data": {
      "text/html": "<button onClick=\"this.nextSibling.style.display='block';this.style.display='none';\">Display W&B run</button><iframe src='https://wandb.ai/hamm-daniel/kaggle-simpsons/runs/057ztwm0?jupyter=true' style='border:none;width:100%;height:420px;display:none;'></iframe>",
      "text/plain": "<wandb.sdk.wandb_run.Run at 0x1ab7fbf2ce0>"
     },
     "execution_count": 33,
     "metadata": {},
     "output_type": "execute_result"
    }
   ],
   "source": [
    "wandb.init(project=\"kaggle-simpsons\", config=vars(config))"
   ],
   "metadata": {
    "collapsed": false,
    "ExecuteTime": {
     "end_time": "2023-10-05T07:22:38.313128300Z",
     "start_time": "2023-10-05T07:22:36.917523900Z"
    }
   }
  },
  {
   "cell_type": "code",
   "execution_count": 34,
   "outputs": [
    {
     "name": "stdout",
     "output_type": "stream",
     "text": [
      "batch 0 from 1 ...\n",
      "Epoch 1, Train Loss: 3.422445297241211, Validation Loss: 3.265557289123535\n",
      "batch 0 from 1 ...\n",
      "Epoch 2, Train Loss: 3.269341230392456, Validation Loss: 3.117297410964966\n"
     ]
    }
   ],
   "source": [
    "wandb.watch(model)\n",
    "\n",
    "best_val_loss = float('inf')\n",
    "\n",
    "for epoch in range(1, config.epochs + 1):\n",
    "    # Training\n",
    "    model.train()\n",
    "    train_loss = 0.0\n",
    "\n",
    "    for batch_idx, (inputs, labels) in enumerate(train_loader):\n",
    "        if batch_idx % 50 == 0:\n",
    "            print(f\"batch {batch_idx} from {len(train_loader)} ...\")\n",
    "\n",
    "        labels = labels.to(dtype=torch.long)\n",
    "\n",
    "        optimizer.zero_grad()\n",
    "\n",
    "        # the output of the Huggingface model is a dictionary that contains an entry 'logits'\n",
    "        # logits are the raw scores output by the model, which can be converted to probabilities using a softmax function\n",
    "        output = model(inputs.to(device))['logits']\n",
    "\n",
    "        loss = loss_function(output, labels.to(device))\n",
    "        loss.backward()\n",
    "        optimizer.step()\n",
    "        train_loss += loss.item()\n",
    "\n",
    "    # Validation\n",
    "    model.eval()\n",
    "    val_loss = 0.0\n",
    "    with torch.no_grad():\n",
    "        for inputs, labels in validation_loader:\n",
    "            labels = labels.to(dtype=torch.long)\n",
    "            output = model(inputs.to(device))['logits']\n",
    "\n",
    "            loss = loss_function(output, labels.to(device))\n",
    "            val_loss += loss.item()\n",
    "\n",
    "    # step the scheduler - adjust the learning rate if validation loss stops decresing\n",
    "    scheduler.step(val_loss)\n",
    "\n",
    "    print(\n",
    "        f\"Epoch {epoch}, Train Loss: {train_loss / len(train_loader)}, Validation Loss: {val_loss / len(validation_loader)}\")\n",
    "    wandb.log({'epoch': epoch, 'training loss': train_loss, 'validation loss': val_loss,\n",
    "               'adjusted learning rate': optimizer.param_groups[0]['lr']})\n",
    "\n",
    "    # Save model if validation loss has decreased\n",
    "    if val_loss < best_val_loss:\n",
    "        torch.save(model.state_dict(), \"best_model.pth\")\n",
    "        best_val_loss = val_loss\n"
   ],
   "metadata": {
    "collapsed": false,
    "ExecuteTime": {
     "end_time": "2023-10-05T07:22:48.270849800Z",
     "start_time": "2023-10-05T07:22:38.319097800Z"
    }
   }
  },
  {
   "cell_type": "code",
   "execution_count": 35,
   "outputs": [
    {
     "data": {
      "text/plain": "<IPython.core.display.HTML object>",
      "text/html": "Waiting for W&B process to finish... <strong style=\"color:green\">(success).</strong>"
     },
     "metadata": {},
     "output_type": "display_data"
    },
    {
     "data": {
      "text/plain": "VBox(children=(Label(value='0.001 MB of 0.001 MB uploaded (0.000 MB deduped)\\r'), FloatProgress(value=1.0, max…",
      "application/vnd.jupyter.widget-view+json": {
       "version_major": 2,
       "version_minor": 0,
       "model_id": "bef0997f8593459d831b2a5aa5beb212"
      }
     },
     "metadata": {},
     "output_type": "display_data"
    },
    {
     "data": {
      "text/plain": "<IPython.core.display.HTML object>",
      "text/html": "<style>\n    table.wandb td:nth-child(1) { padding: 0 10px; text-align: left ; width: auto;} td:nth-child(2) {text-align: left ; width: 100%}\n    .wandb-row { display: flex; flex-direction: row; flex-wrap: wrap; justify-content: flex-start; width: 100% }\n    .wandb-col { display: flex; flex-direction: column; flex-basis: 100%; flex: 1; padding: 10px; }\n    </style>\n<div class=\"wandb-row\"><div class=\"wandb-col\"><h3>Run history:</h3><br/><table class=\"wandb\"><tr><td>adjusted learning rate</td><td>▁▁</td></tr><tr><td>epoch</td><td>▁█</td></tr><tr><td>training loss</td><td>█▁</td></tr><tr><td>validation loss</td><td>█▁</td></tr></table><br/></div><div class=\"wandb-col\"><h3>Run summary:</h3><br/><table class=\"wandb\"><tr><td>adjusted learning rate</td><td>0.01</td></tr><tr><td>epoch</td><td>2</td></tr><tr><td>training loss</td><td>3.26934</td></tr><tr><td>validation loss</td><td>3.1173</td></tr></table><br/></div></div>"
     },
     "metadata": {},
     "output_type": "display_data"
    },
    {
     "data": {
      "text/plain": "<IPython.core.display.HTML object>",
      "text/html": " View run <strong style=\"color:#cdcd00\">earnest-star-19</strong> at: <a href='https://wandb.ai/hamm-daniel/kaggle-simpsons/runs/057ztwm0' target=\"_blank\">https://wandb.ai/hamm-daniel/kaggle-simpsons/runs/057ztwm0</a><br/> View job at <a href='https://wandb.ai/hamm-daniel/kaggle-simpsons/jobs/QXJ0aWZhY3RDb2xsZWN0aW9uOjEwNDIxODUyNA==/version_details/v3' target=\"_blank\">https://wandb.ai/hamm-daniel/kaggle-simpsons/jobs/QXJ0aWZhY3RDb2xsZWN0aW9uOjEwNDIxODUyNA==/version_details/v3</a><br/>Synced 5 W&B file(s), 0 media file(s), 0 artifact file(s) and 0 other file(s)"
     },
     "metadata": {},
     "output_type": "display_data"
    },
    {
     "data": {
      "text/plain": "<IPython.core.display.HTML object>",
      "text/html": "Find logs at: <code>.\\wandb\\run-20231005_092236-057ztwm0\\logs</code>"
     },
     "metadata": {},
     "output_type": "display_data"
    }
   ],
   "source": [
    "  wandb.finish()"
   ],
   "metadata": {
    "collapsed": false,
    "ExecuteTime": {
     "end_time": "2023-10-05T07:23:55.636221800Z",
     "start_time": "2023-10-05T07:23:49.268776900Z"
    }
   }
  }
 ],
 "metadata": {
  "kernelspec": {
   "display_name": "Python 3",
   "language": "python",
   "name": "python3"
  },
  "language_info": {
   "codemirror_mode": {
    "name": "ipython",
    "version": 2
   },
   "file_extension": ".py",
   "mimetype": "text/x-python",
   "name": "python",
   "nbconvert_exporter": "python",
   "pygments_lexer": "ipython2",
   "version": "2.7.6"
  }
 },
 "nbformat": 4,
 "nbformat_minor": 0
}
