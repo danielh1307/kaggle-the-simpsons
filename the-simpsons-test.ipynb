{
 "cells": [
  {
   "cell_type": "code",
   "execution_count": 1,
   "metadata": {
    "collapsed": true,
    "ExecuteTime": {
     "end_time": "2023-10-01T13:24:20.385981300Z",
     "start_time": "2023-10-01T13:24:16.223758200Z"
    }
   },
   "outputs": [],
   "source": [
    "import os\n",
    "\n",
    "import torch\n",
    "import torch.nn.functional as F\n",
    "from PIL import Image\n",
    "from torchvision import transforms\n",
    "\n",
    "from shared_methods import all_labels, show_image_by_path\n",
    "from simpsons_neural_network_1 import SimpsonsNet1"
   ]
  },
  {
   "cell_type": "markdown",
   "source": [
    "# Check if we can use Cuda"
   ],
   "metadata": {
    "collapsed": false
   }
  },
  {
   "cell_type": "code",
   "execution_count": 2,
   "outputs": [
    {
     "name": "stdout",
     "output_type": "stream",
     "text": [
      "Using cuda device\n"
     ]
    }
   ],
   "source": [
    "device = (\n",
    "    \"cuda\"\n",
    "    if torch.cuda.is_available()\n",
    "    else \"mps\"\n",
    "    if torch.backends.mps.is_available()\n",
    "    else \"cpu\"\n",
    ")\n",
    "\n",
    "# device = \"cpu\" # uncomment if you want to use \"cpu\", currently cpu is faster than cuda (maybe because the NN is very little)\n",
    "print(f\"Using {device} device\")"
   ],
   "metadata": {
    "collapsed": false,
    "ExecuteTime": {
     "end_time": "2023-10-01T13:24:21.600605100Z",
     "start_time": "2023-10-01T13:24:21.588606200Z"
    }
   }
  },
  {
   "cell_type": "markdown",
   "source": [
    "# Load the model"
   ],
   "metadata": {
    "collapsed": false
   }
  },
  {
   "cell_type": "code",
   "execution_count": 3,
   "outputs": [
    {
     "data": {
      "text/plain": "SimpsonsNet1(\n  (conv1): Conv2d(3, 16, kernel_size=(3, 3), stride=(1, 1), padding=(1, 1))\n  (conv2): Conv2d(16, 32, kernel_size=(3, 3), stride=(1, 1), padding=(1, 1))\n  (conv3): Conv2d(32, 64, kernel_size=(3, 3), stride=(1, 1), padding=(1, 1))\n  (fc1): Linear(in_features=50176, out_features=256, bias=True)\n  (fc2): Linear(in_features=256, out_features=29, bias=True)\n  (dropout): Dropout(p=0.25, inplace=False)\n  (pool): MaxPool2d(kernel_size=2, stride=2, padding=0, dilation=1, ceil_mode=False)\n)"
     },
     "execution_count": 3,
     "metadata": {},
     "output_type": "execute_result"
    }
   ],
   "source": [
    "run_id = \"cxjx9df9\"\n",
    "\n",
    "model = SimpsonsNet1()\n",
    "model.to(device)\n",
    "model.load_state_dict(torch.load(f\"trained_models/simpsons_net_1_{run_id}_3.pth\"))\n",
    "model.eval()"
   ],
   "metadata": {
    "collapsed": false,
    "ExecuteTime": {
     "end_time": "2023-10-01T13:24:25.535851700Z",
     "start_time": "2023-10-01T13:24:23.158965900Z"
    }
   }
  },
  {
   "cell_type": "markdown",
   "source": [
    "# Test the model"
   ],
   "metadata": {
    "collapsed": false
   }
  },
  {
   "cell_type": "code",
   "execution_count": 4,
   "outputs": [],
   "source": [
    "# Create a DataLoader for the test dataset\n",
    "transform = transforms.Compose([\n",
    "    transforms.Resize((224, 224)),\n",
    "    transforms.ToTensor()\n",
    "])"
   ],
   "metadata": {
    "collapsed": false,
    "ExecuteTime": {
     "end_time": "2023-10-01T13:24:33.179523800Z",
     "start_time": "2023-10-01T13:24:33.172524900Z"
    }
   }
  },
  {
   "cell_type": "markdown",
   "source": [
    "## Single image"
   ],
   "metadata": {
    "collapsed": false
   }
  },
  {
   "cell_type": "code",
   "execution_count": 5,
   "outputs": [
    {
     "name": "stdout",
     "output_type": "stream",
     "text": [
      "I guess this is lisa_simpson\n"
     ]
    }
   ],
   "source": [
    "with torch.no_grad():  # Disable gradient calculation\n",
    "    path = \"data/test/461179.jpg\"\n",
    "    # input_tensor = image_to_tensor(path)\n",
    "    input_tensor = transform(Image.open(path)).to(device)\n",
    "    output = model(input_tensor)  # Run inference\n",
    "\n",
    "    # output tensor has shape [1, 29]\n",
    "    # one batch dimension for my single image and 29 class scores\n",
    "\n",
    "    probabilities = F.softmax(output, dim=1)\n",
    "    predicted_label_idx = torch.argmax(probabilities).item()\n",
    "\n",
    "    print(f\"I guess this is {all_labels[predicted_label_idx]}\")\n",
    "    show_image_by_path(path)"
   ],
   "metadata": {
    "collapsed": false,
    "ExecuteTime": {
     "end_time": "2023-10-01T13:24:42.500303200Z",
     "start_time": "2023-10-01T13:24:35.636292400Z"
    }
   }
  },
  {
   "cell_type": "markdown",
   "source": [
    "## All images"
   ],
   "metadata": {
    "collapsed": false
   }
  },
  {
   "cell_type": "markdown",
   "source": [
    "### Inference method 1"
   ],
   "metadata": {
    "collapsed": false
   }
  },
  {
   "cell_type": "code",
   "execution_count": 6,
   "outputs": [
    {
     "name": "stdout",
     "output_type": "stream",
     "text": [
      "Predicting batch 1 of 29\n",
      "Predicting batch 2 of 29\n",
      "Predicting batch 3 of 29\n",
      "Predicting batch 4 of 29\n",
      "Predicting batch 5 of 29\n",
      "Predicting batch 6 of 29\n",
      "Predicting batch 7 of 29\n",
      "Predicting batch 8 of 29\n",
      "Predicting batch 9 of 29\n",
      "Predicting batch 10 of 29\n",
      "Predicting batch 11 of 29\n",
      "Predicting batch 12 of 29\n",
      "Predicting batch 13 of 29\n",
      "Predicting batch 14 of 29\n",
      "Predicting batch 15 of 29\n",
      "Predicting batch 16 of 29\n",
      "Predicting batch 17 of 29\n",
      "Predicting batch 18 of 29\n",
      "Predicting batch 19 of 29\n",
      "Predicting batch 20 of 29\n",
      "Predicting batch 21 of 29\n",
      "Predicting batch 22 of 29\n",
      "Predicting batch 23 of 29\n",
      "Predicting batch 24 of 29\n",
      "Predicting batch 25 of 29\n",
      "Predicting batch 26 of 29\n",
      "Predicting batch 27 of 29\n",
      "Predicting batch 28 of 29\n",
      "Predicting batch 29 of 29\n",
      "Predicting batch 30 of 29\n"
     ]
    }
   ],
   "source": [
    "root_dir = \"data/test\"\n",
    "batch_size = 32\n",
    "\n",
    "all_files = [f for f in os.listdir(root_dir) if f.endswith(\".jpg\")]\n",
    "num_batches = len(all_files) // batch_size\n",
    "\n",
    "with open(f\"solutions/solution_no1_{run_id}.csv\", \"w\") as output_file:\n",
    "    output_file.write(\"Id,Category\\n\")\n",
    "\n",
    "    # This loop iterates over the list of all test image files in batches. The step size is batch_size.\n",
    "    for i in range(0, len(all_files), batch_size):\n",
    "        print(f\"Predicting batch {i // batch_size + 1} of {num_batches}\")\n",
    "\n",
    "        # taking files from i to (i + batch_size)\n",
    "        batch_files = all_files[i:i + batch_size]\n",
    "        batch_tensors = [transform(Image.open(os.path.join(root_dir, f))) for f in batch_files]\n",
    "        batch_tensors = torch.stack(batch_tensors)\n",
    "\n",
    "        outputs = model(batch_tensors.to(device))  # shape ([32, 29]) (batch_size and number of classes)\n",
    "        probabilities = torch.nn.functional.softmax(outputs, dim=1)  # shape ([32, 29)]\n",
    "        predicted_indices = torch.argmax(probabilities, dim=1)  # shape ([32]) -> label for each element in the batch\n",
    "\n",
    "        for j, predicted_index in enumerate(predicted_indices):\n",
    "            output_file.write(f\"{batch_files[j]},{all_labels[predicted_index.item()]}\\n\")\n"
   ],
   "metadata": {
    "collapsed": false,
    "ExecuteTime": {
     "end_time": "2023-10-01T13:24:51.195978100Z",
     "start_time": "2023-10-01T13:24:46.476296500Z"
    }
   }
  },
  {
   "cell_type": "markdown",
   "source": [
    "## Inference method 2"
   ],
   "metadata": {
    "collapsed": false
   }
  },
  {
   "cell_type": "code",
   "execution_count": 7,
   "outputs": [
    {
     "name": "stdout",
     "output_type": "stream",
     "text": [
      "Predicting file with index 0\n",
      "Predicting file with index 10\n",
      "Predicting file with index 20\n",
      "Predicting file with index 30\n",
      "Predicting file with index 40\n",
      "Predicting file with index 50\n",
      "Predicting file with index 60\n",
      "Predicting file with index 70\n",
      "Predicting file with index 80\n",
      "Predicting file with index 90\n",
      "Predicting file with index 100\n",
      "Predicting file with index 110\n",
      "Predicting file with index 120\n",
      "Predicting file with index 130\n",
      "Predicting file with index 140\n",
      "Predicting file with index 150\n",
      "Predicting file with index 160\n",
      "Predicting file with index 170\n",
      "Predicting file with index 180\n",
      "Predicting file with index 190\n",
      "Predicting file with index 200\n",
      "Predicting file with index 210\n",
      "Predicting file with index 220\n",
      "Predicting file with index 230\n",
      "Predicting file with index 240\n",
      "Predicting file with index 250\n",
      "Predicting file with index 260\n",
      "Predicting file with index 270\n",
      "Predicting file with index 280\n",
      "Predicting file with index 290\n",
      "Predicting file with index 300\n",
      "Predicting file with index 310\n",
      "Predicting file with index 320\n",
      "Predicting file with index 330\n",
      "Predicting file with index 340\n",
      "Predicting file with index 350\n",
      "Predicting file with index 360\n",
      "Predicting file with index 370\n",
      "Predicting file with index 380\n",
      "Predicting file with index 390\n",
      "Predicting file with index 400\n",
      "Predicting file with index 410\n",
      "Predicting file with index 420\n",
      "Predicting file with index 430\n",
      "Predicting file with index 440\n",
      "Predicting file with index 450\n",
      "Predicting file with index 460\n",
      "Predicting file with index 470\n",
      "Predicting file with index 480\n",
      "Predicting file with index 490\n",
      "Predicting file with index 500\n",
      "Predicting file with index 510\n",
      "Predicting file with index 520\n",
      "Predicting file with index 530\n",
      "Predicting file with index 540\n",
      "Predicting file with index 550\n",
      "Predicting file with index 560\n",
      "Predicting file with index 570\n",
      "Predicting file with index 580\n",
      "Predicting file with index 590\n",
      "Predicting file with index 600\n",
      "Predicting file with index 610\n",
      "Predicting file with index 620\n",
      "Predicting file with index 630\n",
      "Predicting file with index 640\n",
      "Predicting file with index 650\n",
      "Predicting file with index 660\n",
      "Predicting file with index 670\n",
      "Predicting file with index 680\n",
      "Predicting file with index 690\n",
      "Predicting file with index 700\n",
      "Predicting file with index 710\n",
      "Predicting file with index 720\n",
      "Predicting file with index 730\n",
      "Predicting file with index 740\n",
      "Predicting file with index 750\n",
      "Predicting file with index 760\n",
      "Predicting file with index 770\n",
      "Predicting file with index 780\n",
      "Predicting file with index 790\n",
      "Predicting file with index 800\n",
      "Predicting file with index 810\n",
      "Predicting file with index 820\n",
      "Predicting file with index 830\n",
      "Predicting file with index 840\n",
      "Predicting file with index 850\n",
      "Predicting file with index 860\n",
      "Predicting file with index 870\n",
      "Predicting file with index 880\n",
      "Predicting file with index 890\n",
      "Predicting file with index 900\n",
      "Predicting file with index 910\n",
      "Predicting file with index 920\n"
     ]
    }
   ],
   "source": [
    "root_dir = \"data/test\"\n",
    "\n",
    "output_file = open(f\"solutions/solution_no2_{run_id}.csv\", \"w\")\n",
    "output_file.write(\"Id,Category\\n\")\n",
    "\n",
    "idx = 0\n",
    "\n",
    "for filename in os.listdir(root_dir):\n",
    "    if filename.endswith(\".jpg\"):\n",
    "        if idx % 10 == 0:\n",
    "            print(f\"Predicting file with index {idx}\")\n",
    "        idx += 1\n",
    "\n",
    "        img_path = os.path.join(root_dir, filename)\n",
    "        input_tensor = transform(Image.open(img_path)).to(device)\n",
    "        output = model(input_tensor)\n",
    "\n",
    "        probabilities = F.softmax(output, dim=1)\n",
    "        predicted_label_idx = torch.argmax(probabilities).item()\n",
    "\n",
    "        output_file.write(f\"{filename},{all_labels[predicted_label_idx]}\\n\")\n",
    "\n",
    "output_file.close()\n"
   ],
   "metadata": {
    "collapsed": false,
    "ExecuteTime": {
     "end_time": "2023-10-01T13:24:59.053074300Z",
     "start_time": "2023-10-01T13:24:55.085444400Z"
    }
   }
  },
  {
   "cell_type": "code",
   "execution_count": null,
   "outputs": [],
   "source": [],
   "metadata": {
    "collapsed": false
   }
  }
 ],
 "metadata": {
  "kernelspec": {
   "display_name": "Python 3",
   "language": "python",
   "name": "python3"
  },
  "language_info": {
   "codemirror_mode": {
    "name": "ipython",
    "version": 2
   },
   "file_extension": ".py",
   "mimetype": "text/x-python",
   "name": "python",
   "nbconvert_exporter": "python",
   "pygments_lexer": "ipython2",
   "version": "2.7.6"
  }
 },
 "nbformat": 4,
 "nbformat_minor": 0
}
